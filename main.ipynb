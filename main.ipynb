{
  "cells": [
    {
      "cell_type": "markdown",
      "metadata": {
        "id": "view-in-github",
        "colab_type": "text"
      },
      "source": [
        "<a href=\"https://colab.research.google.com/github/tjubes/DataMining/blob/main/main.ipynb\" target=\"_parent\"><img src=\"https://colab.research.google.com/assets/colab-badge.svg\" alt=\"Open In Colab\"/></a>"
      ]
    },
    {
      "cell_type": "code",
      "execution_count": null,
      "metadata": {
        "id": "ChJjT8mSegwr"
      },
      "outputs": [],
      "source": [
        "import numpy as np\n",
        "import collections\n",
        "import pandas as pd\n",
        "import random\n",
        "\n",
        "class DecisionNode():\n",
        "    def __init__(self, feature=None, splitpoint=None, left=None, right=None, value=None, leaf=False):\n",
        "        self.feature = feature          # Feature to split on, column index\n",
        "        self.splitpoint = splitpoint    # Threshold value for the split\n",
        "        self.left = left                # Left subtree\n",
        "        self.right = right              # Right subtree\n",
        "        self.value = value              # If leaf node, the predicted class\n",
        "        self.leaf = leaf                # If node is leaf node\n",
        "\n",
        "    def is_leaf_node(self):\n",
        "        return self.leaf is True\n",
        "\n",
        "    def right(self):\n",
        "        return self.right\n",
        "\n",
        "def impurity(a):\n",
        "  i = (np.count_nonzero(a == 0)/len(a))*(1-np.count_nonzero(a == 0)/len(a))\n",
        "  return i\n",
        "\n",
        "def bestsplit(x,y, minleaf):\n",
        "# this function is for a single feature\n",
        "#return best splitpoint, reduction of splitpoint (gini index)\n",
        "\n",
        "  #The best split is the split that achieves the highest impurity reduction.\n",
        "  impurity_parent = impurity(y)\n",
        "\n",
        "  x_sorted = np.sort(np.unique(x))\n",
        "  x_splitpoints = (x_sorted[0:(len(x_sorted)-1)]+x_sorted[1:(len(x_sorted))])/2\n",
        "\n",
        "  reductions = []\n",
        "  for s in x_splitpoints:\n",
        "    #go over all the splitpoints\n",
        "    left = impurity(y[x <= s])\n",
        "    l = len(y[x <= s])/len(y)\n",
        "    right = impurity(y[x > s])\n",
        "    r = len(y[x > s])/len(y)\n",
        "\n",
        "    #calculate gini reduction\n",
        "    reduction = impurity_parent - ((l*left) + r*(right))\n",
        "\n",
        "    #only if minleaf parameter is correct\n",
        "    if (len(y[x<=s]) >= minleaf) and (len(y[x>s]) >= minleaf):\n",
        "      reductions.append(reduction)\n",
        "\n",
        "  # the reductions list is empty if the minleaf constraint is not satisfied\n",
        "  if reductions == []:\n",
        "    return None, 0\n",
        "\n",
        "  best_splitpoint = x_splitpoints[reductions.index(max(reductions))]\n",
        "\n",
        "  return best_splitpoint, max(reductions)\n",
        "\n",
        "def split(x,y,minleaf,nfeat):\n",
        "  #this function finds which feature has the best split, using the best_split function\n",
        "  # which feature do we split on, and what is the threshold?\n",
        "  best_reduction = 0\n",
        "  best_splitpoint = None\n",
        "  column_i = None\n",
        "  i = 0\n",
        "  n_features = len(x.T)\n",
        "\n",
        "  #which random features we split on\n",
        "  random_features = random.sample(range(0, n_features), nfeat)\n",
        "\n",
        "  for index in random_features:\n",
        "    splitpoint, reduction = bestsplit(x[:, index],y,minleaf)\n",
        "\n",
        "    if reduction > best_reduction:\n",
        "      best_reduction = reduction\n",
        "      best_splitpoint = splitpoint\n",
        "      column_i = i\n",
        "    i+=1\n",
        "  return best_splitpoint, column_i\n",
        "\n",
        "def tree_grow(x, y, nmin, minleaf, nfeat):\n",
        "  observations = len(x)\n",
        "\n",
        "  #the number of observations that a node must contain at least, for it to be\n",
        "  #allowed to be split\n",
        "  #also if the node is already pure, splitting is not needed anymore\n",
        "  if observations<nmin or np.all(y == 0): #is np.all(y == 0) correct?\n",
        "    return DecisionNode(value=y, leaf=True)\n",
        "\n",
        "  #find the column that has the best quality of split\n",
        "  splitpoint, feature_index = split(x,y,minleaf,nfeat)\n",
        "\n",
        "  #if the minleaf  constraint is not sasisfied, so if no split can be found that\n",
        "  #creates a node with fewer than minleaf observations is not acceptable.\n",
        "  #leaf node created\n",
        "  if feature_index == None:\n",
        "    return DecisionNode(value=y, leaf=True)\n",
        "\n",
        "  #left\n",
        "  y_l = y[x[:,feature_index]<=splitpoint]\n",
        "  x_l = x[np.where(x[:,feature_index]<=splitpoint)]\n",
        "\n",
        "  #right\n",
        "  y_r = y[x[:,feature_index]>splitpoint]\n",
        "  x_r = x[np.where(x[:,feature_index]>splitpoint)]\n",
        "\n",
        "  #recursion\n",
        "  left_tree = tree_grow(x_l,y_l, nmin, minleaf, nfeat)\n",
        "  right_tree = tree_grow(x_r,y_r, nmin, minleaf, nfeat)\n",
        "\n",
        "  return DecisionNode(feature=feature_index, splitpoint=splitpoint, left=left_tree, right=right_tree, value=y)"
      ]
    },
    {
      "cell_type": "code",
      "execution_count": null,
      "metadata": {
        "colab": {
          "base_uri": "https://localhost:8080/"
        },
        "id": "lxxoza74lGdL",
        "outputId": "8984d840-f5d8-47e0-c4de-5efdf7e19a24"
      },
      "outputs": [
        {
          "output_type": "stream",
          "name": "stdout",
          "text": [
            "(127.5, 1)\n"
          ]
        }
      ],
      "source": [
        "#data\n",
        "df = pd.read_csv('pima.txt', header=None).to_numpy()\n",
        "\n",
        "x = df[:, 0:8]\n",
        "y = df[:, 8]"
      ]
    },
    {
      "cell_type": "code",
      "source": [
        "print(tree_grow(x,y,10,10,5).right.value)"
      ],
      "metadata": {
        "id": "zNNwpL-fgfVP",
        "outputId": "4392ed88-c59b-4bf9-9ab6-c8b34ff3516b",
        "colab": {
          "base_uri": "https://localhost:8080/",
          "height": 347
        }
      },
      "execution_count": null,
      "outputs": [
        {
          "output_type": "error",
          "ename": "RecursionError",
          "evalue": "maximum recursion depth exceeded in comparison",
          "traceback": [
            "\u001b[0;31m---------------------------------------------------------------------------\u001b[0m",
            "\u001b[0;31mRecursionError\u001b[0m                            Traceback (most recent call last)",
            "\u001b[0;32m<ipython-input-5-493bd4034e2a>\u001b[0m in \u001b[0;36m<cell line: 1>\u001b[0;34m()\u001b[0m\n\u001b[0;32m----> 1\u001b[0;31m \u001b[0mprint\u001b[0m\u001b[0;34m(\u001b[0m\u001b[0mtree_grow\u001b[0m\u001b[0;34m(\u001b[0m\u001b[0mx\u001b[0m\u001b[0;34m,\u001b[0m\u001b[0my\u001b[0m\u001b[0;34m,\u001b[0m\u001b[0;36m10\u001b[0m\u001b[0;34m,\u001b[0m\u001b[0;36m10\u001b[0m\u001b[0;34m,\u001b[0m\u001b[0;36m5\u001b[0m\u001b[0;34m)\u001b[0m\u001b[0;34m.\u001b[0m\u001b[0mright\u001b[0m\u001b[0;34m.\u001b[0m\u001b[0mvalue\u001b[0m\u001b[0;34m)\u001b[0m\u001b[0;34m\u001b[0m\u001b[0;34m\u001b[0m\u001b[0m\n\u001b[0m",
            "\u001b[0;32m<ipython-input-1-17ccdabbe508>\u001b[0m in \u001b[0;36mtree_grow\u001b[0;34m(x, y, nmin, minleaf, nfeat)\u001b[0m\n\u001b[1;32m    105\u001b[0m \u001b[0;34m\u001b[0m\u001b[0m\n\u001b[1;32m    106\u001b[0m   \u001b[0;31m#recursion\u001b[0m\u001b[0;34m\u001b[0m\u001b[0;34m\u001b[0m\u001b[0m\n\u001b[0;32m--> 107\u001b[0;31m   \u001b[0mleft_tree\u001b[0m \u001b[0;34m=\u001b[0m \u001b[0mtree_grow\u001b[0m\u001b[0;34m(\u001b[0m\u001b[0mx_l\u001b[0m\u001b[0;34m,\u001b[0m\u001b[0my_l\u001b[0m\u001b[0;34m,\u001b[0m \u001b[0mnmin\u001b[0m\u001b[0;34m,\u001b[0m \u001b[0mminleaf\u001b[0m\u001b[0;34m,\u001b[0m \u001b[0mnfeat\u001b[0m\u001b[0;34m)\u001b[0m\u001b[0;34m\u001b[0m\u001b[0;34m\u001b[0m\u001b[0m\n\u001b[0m\u001b[1;32m    108\u001b[0m   \u001b[0mright_tree\u001b[0m \u001b[0;34m=\u001b[0m \u001b[0mtree_grow\u001b[0m\u001b[0;34m(\u001b[0m\u001b[0mx_r\u001b[0m\u001b[0;34m,\u001b[0m\u001b[0my_r\u001b[0m\u001b[0;34m,\u001b[0m \u001b[0mnmin\u001b[0m\u001b[0;34m,\u001b[0m \u001b[0mminleaf\u001b[0m\u001b[0;34m,\u001b[0m \u001b[0mnfeat\u001b[0m\u001b[0;34m)\u001b[0m\u001b[0;34m\u001b[0m\u001b[0;34m\u001b[0m\u001b[0m\n\u001b[1;32m    109\u001b[0m \u001b[0;34m\u001b[0m\u001b[0m\n",
            "\u001b[0;32m<ipython-input-1-17ccdabbe508>\u001b[0m in \u001b[0;36mtree_grow\u001b[0;34m(x, y, nmin, minleaf, nfeat)\u001b[0m\n\u001b[1;32m    105\u001b[0m \u001b[0;34m\u001b[0m\u001b[0m\n\u001b[1;32m    106\u001b[0m   \u001b[0;31m#recursion\u001b[0m\u001b[0;34m\u001b[0m\u001b[0;34m\u001b[0m\u001b[0m\n\u001b[0;32m--> 107\u001b[0;31m   \u001b[0mleft_tree\u001b[0m \u001b[0;34m=\u001b[0m \u001b[0mtree_grow\u001b[0m\u001b[0;34m(\u001b[0m\u001b[0mx_l\u001b[0m\u001b[0;34m,\u001b[0m\u001b[0my_l\u001b[0m\u001b[0;34m,\u001b[0m \u001b[0mnmin\u001b[0m\u001b[0;34m,\u001b[0m \u001b[0mminleaf\u001b[0m\u001b[0;34m,\u001b[0m \u001b[0mnfeat\u001b[0m\u001b[0;34m)\u001b[0m\u001b[0;34m\u001b[0m\u001b[0;34m\u001b[0m\u001b[0m\n\u001b[0m\u001b[1;32m    108\u001b[0m   \u001b[0mright_tree\u001b[0m \u001b[0;34m=\u001b[0m \u001b[0mtree_grow\u001b[0m\u001b[0;34m(\u001b[0m\u001b[0mx_r\u001b[0m\u001b[0;34m,\u001b[0m\u001b[0my_r\u001b[0m\u001b[0;34m,\u001b[0m \u001b[0mnmin\u001b[0m\u001b[0;34m,\u001b[0m \u001b[0mminleaf\u001b[0m\u001b[0;34m,\u001b[0m \u001b[0mnfeat\u001b[0m\u001b[0;34m)\u001b[0m\u001b[0;34m\u001b[0m\u001b[0;34m\u001b[0m\u001b[0m\n\u001b[1;32m    109\u001b[0m \u001b[0;34m\u001b[0m\u001b[0m\n",
            "\u001b[0;32m<ipython-input-1-17ccdabbe508>\u001b[0m in \u001b[0;36mtree_grow\u001b[0;34m(x, y, nmin, minleaf, nfeat)\u001b[0m\n\u001b[1;32m    105\u001b[0m \u001b[0;34m\u001b[0m\u001b[0m\n\u001b[1;32m    106\u001b[0m   \u001b[0;31m#recursion\u001b[0m\u001b[0;34m\u001b[0m\u001b[0;34m\u001b[0m\u001b[0m\n\u001b[0;32m--> 107\u001b[0;31m   \u001b[0mleft_tree\u001b[0m \u001b[0;34m=\u001b[0m \u001b[0mtree_grow\u001b[0m\u001b[0;34m(\u001b[0m\u001b[0mx_l\u001b[0m\u001b[0;34m,\u001b[0m\u001b[0my_l\u001b[0m\u001b[0;34m,\u001b[0m \u001b[0mnmin\u001b[0m\u001b[0;34m,\u001b[0m \u001b[0mminleaf\u001b[0m\u001b[0;34m,\u001b[0m \u001b[0mnfeat\u001b[0m\u001b[0;34m)\u001b[0m\u001b[0;34m\u001b[0m\u001b[0;34m\u001b[0m\u001b[0m\n\u001b[0m\u001b[1;32m    108\u001b[0m   \u001b[0mright_tree\u001b[0m \u001b[0;34m=\u001b[0m \u001b[0mtree_grow\u001b[0m\u001b[0;34m(\u001b[0m\u001b[0mx_r\u001b[0m\u001b[0;34m,\u001b[0m\u001b[0my_r\u001b[0m\u001b[0;34m,\u001b[0m \u001b[0mnmin\u001b[0m\u001b[0;34m,\u001b[0m \u001b[0mminleaf\u001b[0m\u001b[0;34m,\u001b[0m \u001b[0mnfeat\u001b[0m\u001b[0;34m)\u001b[0m\u001b[0;34m\u001b[0m\u001b[0;34m\u001b[0m\u001b[0m\n\u001b[1;32m    109\u001b[0m \u001b[0;34m\u001b[0m\u001b[0m\n",
            "\u001b[0;32m<ipython-input-1-17ccdabbe508>\u001b[0m in \u001b[0;36mtree_grow\u001b[0;34m(x, y, nmin, minleaf, nfeat)\u001b[0m\n\u001b[1;32m    105\u001b[0m \u001b[0;34m\u001b[0m\u001b[0m\n\u001b[1;32m    106\u001b[0m   \u001b[0;31m#recursion\u001b[0m\u001b[0;34m\u001b[0m\u001b[0;34m\u001b[0m\u001b[0m\n\u001b[0;32m--> 107\u001b[0;31m   \u001b[0mleft_tree\u001b[0m \u001b[0;34m=\u001b[0m \u001b[0mtree_grow\u001b[0m\u001b[0;34m(\u001b[0m\u001b[0mx_l\u001b[0m\u001b[0;34m,\u001b[0m\u001b[0my_l\u001b[0m\u001b[0;34m,\u001b[0m \u001b[0mnmin\u001b[0m\u001b[0;34m,\u001b[0m \u001b[0mminleaf\u001b[0m\u001b[0;34m,\u001b[0m \u001b[0mnfeat\u001b[0m\u001b[0;34m)\u001b[0m\u001b[0;34m\u001b[0m\u001b[0;34m\u001b[0m\u001b[0m\n\u001b[0m\u001b[1;32m    108\u001b[0m   \u001b[0mright_tree\u001b[0m \u001b[0;34m=\u001b[0m \u001b[0mtree_grow\u001b[0m\u001b[0;34m(\u001b[0m\u001b[0mx_r\u001b[0m\u001b[0;34m,\u001b[0m\u001b[0my_r\u001b[0m\u001b[0;34m,\u001b[0m \u001b[0mnmin\u001b[0m\u001b[0;34m,\u001b[0m \u001b[0mminleaf\u001b[0m\u001b[0;34m,\u001b[0m \u001b[0mnfeat\u001b[0m\u001b[0;34m)\u001b[0m\u001b[0;34m\u001b[0m\u001b[0;34m\u001b[0m\u001b[0m\n\u001b[1;32m    109\u001b[0m \u001b[0;34m\u001b[0m\u001b[0m\n",
            "\u001b[0;32m<ipython-input-1-17ccdabbe508>\u001b[0m in \u001b[0;36mtree_grow\u001b[0;34m(x, y, nmin, minleaf, nfeat)\u001b[0m\n\u001b[1;32m    106\u001b[0m   \u001b[0;31m#recursion\u001b[0m\u001b[0;34m\u001b[0m\u001b[0;34m\u001b[0m\u001b[0m\n\u001b[1;32m    107\u001b[0m   \u001b[0mleft_tree\u001b[0m \u001b[0;34m=\u001b[0m \u001b[0mtree_grow\u001b[0m\u001b[0;34m(\u001b[0m\u001b[0mx_l\u001b[0m\u001b[0;34m,\u001b[0m\u001b[0my_l\u001b[0m\u001b[0;34m,\u001b[0m \u001b[0mnmin\u001b[0m\u001b[0;34m,\u001b[0m \u001b[0mminleaf\u001b[0m\u001b[0;34m,\u001b[0m \u001b[0mnfeat\u001b[0m\u001b[0;34m)\u001b[0m\u001b[0;34m\u001b[0m\u001b[0;34m\u001b[0m\u001b[0m\n\u001b[0;32m--> 108\u001b[0;31m   \u001b[0mright_tree\u001b[0m \u001b[0;34m=\u001b[0m \u001b[0mtree_grow\u001b[0m\u001b[0;34m(\u001b[0m\u001b[0mx_r\u001b[0m\u001b[0;34m,\u001b[0m\u001b[0my_r\u001b[0m\u001b[0;34m,\u001b[0m \u001b[0mnmin\u001b[0m\u001b[0;34m,\u001b[0m \u001b[0mminleaf\u001b[0m\u001b[0;34m,\u001b[0m \u001b[0mnfeat\u001b[0m\u001b[0;34m)\u001b[0m\u001b[0;34m\u001b[0m\u001b[0;34m\u001b[0m\u001b[0m\n\u001b[0m\u001b[1;32m    109\u001b[0m \u001b[0;34m\u001b[0m\u001b[0m\n\u001b[1;32m    110\u001b[0m   \u001b[0;32mreturn\u001b[0m \u001b[0mDecisionNode\u001b[0m\u001b[0;34m(\u001b[0m\u001b[0mfeature\u001b[0m\u001b[0;34m=\u001b[0m\u001b[0mfeature_index\u001b[0m\u001b[0;34m,\u001b[0m \u001b[0msplitpoint\u001b[0m\u001b[0;34m=\u001b[0m\u001b[0msplitpoint\u001b[0m\u001b[0;34m,\u001b[0m \u001b[0mleft\u001b[0m\u001b[0;34m=\u001b[0m\u001b[0mleft_tree\u001b[0m\u001b[0;34m,\u001b[0m \u001b[0mright\u001b[0m\u001b[0;34m=\u001b[0m\u001b[0mright_tree\u001b[0m\u001b[0;34m,\u001b[0m \u001b[0mvalue\u001b[0m\u001b[0;34m=\u001b[0m\u001b[0my\u001b[0m\u001b[0;34m)\u001b[0m\u001b[0;34m\u001b[0m\u001b[0;34m\u001b[0m\u001b[0m\n",
            "\u001b[0;32m<ipython-input-1-17ccdabbe508>\u001b[0m in \u001b[0;36mtree_grow\u001b[0;34m(x, y, nmin, minleaf, nfeat)\u001b[0m\n\u001b[1;32m    105\u001b[0m \u001b[0;34m\u001b[0m\u001b[0m\n\u001b[1;32m    106\u001b[0m   \u001b[0;31m#recursion\u001b[0m\u001b[0;34m\u001b[0m\u001b[0;34m\u001b[0m\u001b[0m\n\u001b[0;32m--> 107\u001b[0;31m   \u001b[0mleft_tree\u001b[0m \u001b[0;34m=\u001b[0m \u001b[0mtree_grow\u001b[0m\u001b[0;34m(\u001b[0m\u001b[0mx_l\u001b[0m\u001b[0;34m,\u001b[0m\u001b[0my_l\u001b[0m\u001b[0;34m,\u001b[0m \u001b[0mnmin\u001b[0m\u001b[0;34m,\u001b[0m \u001b[0mminleaf\u001b[0m\u001b[0;34m,\u001b[0m \u001b[0mnfeat\u001b[0m\u001b[0;34m)\u001b[0m\u001b[0;34m\u001b[0m\u001b[0;34m\u001b[0m\u001b[0m\n\u001b[0m\u001b[1;32m    108\u001b[0m   \u001b[0mright_tree\u001b[0m \u001b[0;34m=\u001b[0m \u001b[0mtree_grow\u001b[0m\u001b[0;34m(\u001b[0m\u001b[0mx_r\u001b[0m\u001b[0;34m,\u001b[0m\u001b[0my_r\u001b[0m\u001b[0;34m,\u001b[0m \u001b[0mnmin\u001b[0m\u001b[0;34m,\u001b[0m \u001b[0mminleaf\u001b[0m\u001b[0;34m,\u001b[0m \u001b[0mnfeat\u001b[0m\u001b[0;34m)\u001b[0m\u001b[0;34m\u001b[0m\u001b[0;34m\u001b[0m\u001b[0m\n\u001b[1;32m    109\u001b[0m \u001b[0;34m\u001b[0m\u001b[0m\n",
            "\u001b[0;32m<ipython-input-1-17ccdabbe508>\u001b[0m in \u001b[0;36mtree_grow\u001b[0;34m(x, y, nmin, minleaf, nfeat)\u001b[0m\n\u001b[1;32m    106\u001b[0m   \u001b[0;31m#recursion\u001b[0m\u001b[0;34m\u001b[0m\u001b[0;34m\u001b[0m\u001b[0m\n\u001b[1;32m    107\u001b[0m   \u001b[0mleft_tree\u001b[0m \u001b[0;34m=\u001b[0m \u001b[0mtree_grow\u001b[0m\u001b[0;34m(\u001b[0m\u001b[0mx_l\u001b[0m\u001b[0;34m,\u001b[0m\u001b[0my_l\u001b[0m\u001b[0;34m,\u001b[0m \u001b[0mnmin\u001b[0m\u001b[0;34m,\u001b[0m \u001b[0mminleaf\u001b[0m\u001b[0;34m,\u001b[0m \u001b[0mnfeat\u001b[0m\u001b[0;34m)\u001b[0m\u001b[0;34m\u001b[0m\u001b[0;34m\u001b[0m\u001b[0m\n\u001b[0;32m--> 108\u001b[0;31m   \u001b[0mright_tree\u001b[0m \u001b[0;34m=\u001b[0m \u001b[0mtree_grow\u001b[0m\u001b[0;34m(\u001b[0m\u001b[0mx_r\u001b[0m\u001b[0;34m,\u001b[0m\u001b[0my_r\u001b[0m\u001b[0;34m,\u001b[0m \u001b[0mnmin\u001b[0m\u001b[0;34m,\u001b[0m \u001b[0mminleaf\u001b[0m\u001b[0;34m,\u001b[0m \u001b[0mnfeat\u001b[0m\u001b[0;34m)\u001b[0m\u001b[0;34m\u001b[0m\u001b[0;34m\u001b[0m\u001b[0m\n\u001b[0m\u001b[1;32m    109\u001b[0m \u001b[0;34m\u001b[0m\u001b[0m\n\u001b[1;32m    110\u001b[0m   \u001b[0;32mreturn\u001b[0m \u001b[0mDecisionNode\u001b[0m\u001b[0;34m(\u001b[0m\u001b[0mfeature\u001b[0m\u001b[0;34m=\u001b[0m\u001b[0mfeature_index\u001b[0m\u001b[0;34m,\u001b[0m \u001b[0msplitpoint\u001b[0m\u001b[0;34m=\u001b[0m\u001b[0msplitpoint\u001b[0m\u001b[0;34m,\u001b[0m \u001b[0mleft\u001b[0m\u001b[0;34m=\u001b[0m\u001b[0mleft_tree\u001b[0m\u001b[0;34m,\u001b[0m \u001b[0mright\u001b[0m\u001b[0;34m=\u001b[0m\u001b[0mright_tree\u001b[0m\u001b[0;34m,\u001b[0m \u001b[0mvalue\u001b[0m\u001b[0;34m=\u001b[0m\u001b[0my\u001b[0m\u001b[0;34m)\u001b[0m\u001b[0;34m\u001b[0m\u001b[0;34m\u001b[0m\u001b[0m\n",
            "\u001b[0;32m<ipython-input-1-17ccdabbe508>\u001b[0m in \u001b[0;36mtree_grow\u001b[0;34m(x, y, nmin, minleaf, nfeat)\u001b[0m\n\u001b[1;32m    106\u001b[0m   \u001b[0;31m#recursion\u001b[0m\u001b[0;34m\u001b[0m\u001b[0;34m\u001b[0m\u001b[0m\n\u001b[1;32m    107\u001b[0m   \u001b[0mleft_tree\u001b[0m \u001b[0;34m=\u001b[0m \u001b[0mtree_grow\u001b[0m\u001b[0;34m(\u001b[0m\u001b[0mx_l\u001b[0m\u001b[0;34m,\u001b[0m\u001b[0my_l\u001b[0m\u001b[0;34m,\u001b[0m \u001b[0mnmin\u001b[0m\u001b[0;34m,\u001b[0m \u001b[0mminleaf\u001b[0m\u001b[0;34m,\u001b[0m \u001b[0mnfeat\u001b[0m\u001b[0;34m)\u001b[0m\u001b[0;34m\u001b[0m\u001b[0;34m\u001b[0m\u001b[0m\n\u001b[0;32m--> 108\u001b[0;31m   \u001b[0mright_tree\u001b[0m \u001b[0;34m=\u001b[0m \u001b[0mtree_grow\u001b[0m\u001b[0;34m(\u001b[0m\u001b[0mx_r\u001b[0m\u001b[0;34m,\u001b[0m\u001b[0my_r\u001b[0m\u001b[0;34m,\u001b[0m \u001b[0mnmin\u001b[0m\u001b[0;34m,\u001b[0m \u001b[0mminleaf\u001b[0m\u001b[0;34m,\u001b[0m \u001b[0mnfeat\u001b[0m\u001b[0;34m)\u001b[0m\u001b[0;34m\u001b[0m\u001b[0;34m\u001b[0m\u001b[0m\n\u001b[0m\u001b[1;32m    109\u001b[0m \u001b[0;34m\u001b[0m\u001b[0m\n\u001b[1;32m    110\u001b[0m   \u001b[0;32mreturn\u001b[0m \u001b[0mDecisionNode\u001b[0m\u001b[0;34m(\u001b[0m\u001b[0mfeature\u001b[0m\u001b[0;34m=\u001b[0m\u001b[0mfeature_index\u001b[0m\u001b[0;34m,\u001b[0m \u001b[0msplitpoint\u001b[0m\u001b[0;34m=\u001b[0m\u001b[0msplitpoint\u001b[0m\u001b[0;34m,\u001b[0m \u001b[0mleft\u001b[0m\u001b[0;34m=\u001b[0m\u001b[0mleft_tree\u001b[0m\u001b[0;34m,\u001b[0m \u001b[0mright\u001b[0m\u001b[0;34m=\u001b[0m\u001b[0mright_tree\u001b[0m\u001b[0;34m,\u001b[0m \u001b[0mvalue\u001b[0m\u001b[0;34m=\u001b[0m\u001b[0my\u001b[0m\u001b[0;34m)\u001b[0m\u001b[0;34m\u001b[0m\u001b[0;34m\u001b[0m\u001b[0m\n",
            "\u001b[0;32m<ipython-input-1-17ccdabbe508>\u001b[0m in \u001b[0;36mtree_grow\u001b[0;34m(x, y, nmin, minleaf, nfeat)\u001b[0m\n\u001b[1;32m    105\u001b[0m \u001b[0;34m\u001b[0m\u001b[0m\n\u001b[1;32m    106\u001b[0m   \u001b[0;31m#recursion\u001b[0m\u001b[0;34m\u001b[0m\u001b[0;34m\u001b[0m\u001b[0m\n\u001b[0;32m--> 107\u001b[0;31m   \u001b[0mleft_tree\u001b[0m \u001b[0;34m=\u001b[0m \u001b[0mtree_grow\u001b[0m\u001b[0;34m(\u001b[0m\u001b[0mx_l\u001b[0m\u001b[0;34m,\u001b[0m\u001b[0my_l\u001b[0m\u001b[0;34m,\u001b[0m \u001b[0mnmin\u001b[0m\u001b[0;34m,\u001b[0m \u001b[0mminleaf\u001b[0m\u001b[0;34m,\u001b[0m \u001b[0mnfeat\u001b[0m\u001b[0;34m)\u001b[0m\u001b[0;34m\u001b[0m\u001b[0;34m\u001b[0m\u001b[0m\n\u001b[0m\u001b[1;32m    108\u001b[0m   \u001b[0mright_tree\u001b[0m \u001b[0;34m=\u001b[0m \u001b[0mtree_grow\u001b[0m\u001b[0;34m(\u001b[0m\u001b[0mx_r\u001b[0m\u001b[0;34m,\u001b[0m\u001b[0my_r\u001b[0m\u001b[0;34m,\u001b[0m \u001b[0mnmin\u001b[0m\u001b[0;34m,\u001b[0m \u001b[0mminleaf\u001b[0m\u001b[0;34m,\u001b[0m \u001b[0mnfeat\u001b[0m\u001b[0;34m)\u001b[0m\u001b[0;34m\u001b[0m\u001b[0;34m\u001b[0m\u001b[0m\n\u001b[1;32m    109\u001b[0m \u001b[0;34m\u001b[0m\u001b[0m\n",
            "\u001b[0;32m<ipython-input-1-17ccdabbe508>\u001b[0m in \u001b[0;36mtree_grow\u001b[0;34m(x, y, nmin, minleaf, nfeat)\u001b[0m\n\u001b[1;32m    105\u001b[0m \u001b[0;34m\u001b[0m\u001b[0m\n\u001b[1;32m    106\u001b[0m   \u001b[0;31m#recursion\u001b[0m\u001b[0;34m\u001b[0m\u001b[0;34m\u001b[0m\u001b[0m\n\u001b[0;32m--> 107\u001b[0;31m   \u001b[0mleft_tree\u001b[0m \u001b[0;34m=\u001b[0m \u001b[0mtree_grow\u001b[0m\u001b[0;34m(\u001b[0m\u001b[0mx_l\u001b[0m\u001b[0;34m,\u001b[0m\u001b[0my_l\u001b[0m\u001b[0;34m,\u001b[0m \u001b[0mnmin\u001b[0m\u001b[0;34m,\u001b[0m \u001b[0mminleaf\u001b[0m\u001b[0;34m,\u001b[0m \u001b[0mnfeat\u001b[0m\u001b[0;34m)\u001b[0m\u001b[0;34m\u001b[0m\u001b[0;34m\u001b[0m\u001b[0m\n\u001b[0m\u001b[1;32m    108\u001b[0m   \u001b[0mright_tree\u001b[0m \u001b[0;34m=\u001b[0m \u001b[0mtree_grow\u001b[0m\u001b[0;34m(\u001b[0m\u001b[0mx_r\u001b[0m\u001b[0;34m,\u001b[0m\u001b[0my_r\u001b[0m\u001b[0;34m,\u001b[0m \u001b[0mnmin\u001b[0m\u001b[0;34m,\u001b[0m \u001b[0mminleaf\u001b[0m\u001b[0;34m,\u001b[0m \u001b[0mnfeat\u001b[0m\u001b[0;34m)\u001b[0m\u001b[0;34m\u001b[0m\u001b[0;34m\u001b[0m\u001b[0m\n\u001b[1;32m    109\u001b[0m \u001b[0;34m\u001b[0m\u001b[0m\n",
            "\u001b[0;32m<ipython-input-1-17ccdabbe508>\u001b[0m in \u001b[0;36mtree_grow\u001b[0;34m(x, y, nmin, minleaf, nfeat)\u001b[0m\n\u001b[1;32m    106\u001b[0m   \u001b[0;31m#recursion\u001b[0m\u001b[0;34m\u001b[0m\u001b[0;34m\u001b[0m\u001b[0m\n\u001b[1;32m    107\u001b[0m   \u001b[0mleft_tree\u001b[0m \u001b[0;34m=\u001b[0m \u001b[0mtree_grow\u001b[0m\u001b[0;34m(\u001b[0m\u001b[0mx_l\u001b[0m\u001b[0;34m,\u001b[0m\u001b[0my_l\u001b[0m\u001b[0;34m,\u001b[0m \u001b[0mnmin\u001b[0m\u001b[0;34m,\u001b[0m \u001b[0mminleaf\u001b[0m\u001b[0;34m,\u001b[0m \u001b[0mnfeat\u001b[0m\u001b[0;34m)\u001b[0m\u001b[0;34m\u001b[0m\u001b[0;34m\u001b[0m\u001b[0m\n\u001b[0;32m--> 108\u001b[0;31m   \u001b[0mright_tree\u001b[0m \u001b[0;34m=\u001b[0m \u001b[0mtree_grow\u001b[0m\u001b[0;34m(\u001b[0m\u001b[0mx_r\u001b[0m\u001b[0;34m,\u001b[0m\u001b[0my_r\u001b[0m\u001b[0;34m,\u001b[0m \u001b[0mnmin\u001b[0m\u001b[0;34m,\u001b[0m \u001b[0mminleaf\u001b[0m\u001b[0;34m,\u001b[0m \u001b[0mnfeat\u001b[0m\u001b[0;34m)\u001b[0m\u001b[0;34m\u001b[0m\u001b[0;34m\u001b[0m\u001b[0m\n\u001b[0m\u001b[1;32m    109\u001b[0m \u001b[0;34m\u001b[0m\u001b[0m\n\u001b[1;32m    110\u001b[0m   \u001b[0;32mreturn\u001b[0m \u001b[0mDecisionNode\u001b[0m\u001b[0;34m(\u001b[0m\u001b[0mfeature\u001b[0m\u001b[0;34m=\u001b[0m\u001b[0mfeature_index\u001b[0m\u001b[0;34m,\u001b[0m \u001b[0msplitpoint\u001b[0m\u001b[0;34m=\u001b[0m\u001b[0msplitpoint\u001b[0m\u001b[0;34m,\u001b[0m \u001b[0mleft\u001b[0m\u001b[0;34m=\u001b[0m\u001b[0mleft_tree\u001b[0m\u001b[0;34m,\u001b[0m \u001b[0mright\u001b[0m\u001b[0;34m=\u001b[0m\u001b[0mright_tree\u001b[0m\u001b[0;34m,\u001b[0m \u001b[0mvalue\u001b[0m\u001b[0;34m=\u001b[0m\u001b[0my\u001b[0m\u001b[0;34m)\u001b[0m\u001b[0;34m\u001b[0m\u001b[0;34m\u001b[0m\u001b[0m\n",
            "\u001b[0;32m<ipython-input-1-17ccdabbe508>\u001b[0m in \u001b[0;36mtree_grow\u001b[0;34m(x, y, nmin, minleaf, nfeat)\u001b[0m\n\u001b[1;32m    105\u001b[0m \u001b[0;34m\u001b[0m\u001b[0m\n\u001b[1;32m    106\u001b[0m   \u001b[0;31m#recursion\u001b[0m\u001b[0;34m\u001b[0m\u001b[0;34m\u001b[0m\u001b[0m\n\u001b[0;32m--> 107\u001b[0;31m   \u001b[0mleft_tree\u001b[0m \u001b[0;34m=\u001b[0m \u001b[0mtree_grow\u001b[0m\u001b[0;34m(\u001b[0m\u001b[0mx_l\u001b[0m\u001b[0;34m,\u001b[0m\u001b[0my_l\u001b[0m\u001b[0;34m,\u001b[0m \u001b[0mnmin\u001b[0m\u001b[0;34m,\u001b[0m \u001b[0mminleaf\u001b[0m\u001b[0;34m,\u001b[0m \u001b[0mnfeat\u001b[0m\u001b[0;34m)\u001b[0m\u001b[0;34m\u001b[0m\u001b[0;34m\u001b[0m\u001b[0m\n\u001b[0m\u001b[1;32m    108\u001b[0m   \u001b[0mright_tree\u001b[0m \u001b[0;34m=\u001b[0m \u001b[0mtree_grow\u001b[0m\u001b[0;34m(\u001b[0m\u001b[0mx_r\u001b[0m\u001b[0;34m,\u001b[0m\u001b[0my_r\u001b[0m\u001b[0;34m,\u001b[0m \u001b[0mnmin\u001b[0m\u001b[0;34m,\u001b[0m \u001b[0mminleaf\u001b[0m\u001b[0;34m,\u001b[0m \u001b[0mnfeat\u001b[0m\u001b[0;34m)\u001b[0m\u001b[0;34m\u001b[0m\u001b[0;34m\u001b[0m\u001b[0m\n\u001b[1;32m    109\u001b[0m \u001b[0;34m\u001b[0m\u001b[0m\n",
            "\u001b[0;32m<ipython-input-1-17ccdabbe508>\u001b[0m in \u001b[0;36mtree_grow\u001b[0;34m(x, y, nmin, minleaf, nfeat)\u001b[0m\n\u001b[1;32m    105\u001b[0m \u001b[0;34m\u001b[0m\u001b[0m\n\u001b[1;32m    106\u001b[0m   \u001b[0;31m#recursion\u001b[0m\u001b[0;34m\u001b[0m\u001b[0;34m\u001b[0m\u001b[0m\n\u001b[0;32m--> 107\u001b[0;31m   \u001b[0mleft_tree\u001b[0m \u001b[0;34m=\u001b[0m \u001b[0mtree_grow\u001b[0m\u001b[0;34m(\u001b[0m\u001b[0mx_l\u001b[0m\u001b[0;34m,\u001b[0m\u001b[0my_l\u001b[0m\u001b[0;34m,\u001b[0m \u001b[0mnmin\u001b[0m\u001b[0;34m,\u001b[0m \u001b[0mminleaf\u001b[0m\u001b[0;34m,\u001b[0m \u001b[0mnfeat\u001b[0m\u001b[0;34m)\u001b[0m\u001b[0;34m\u001b[0m\u001b[0;34m\u001b[0m\u001b[0m\n\u001b[0m\u001b[1;32m    108\u001b[0m   \u001b[0mright_tree\u001b[0m \u001b[0;34m=\u001b[0m \u001b[0mtree_grow\u001b[0m\u001b[0;34m(\u001b[0m\u001b[0mx_r\u001b[0m\u001b[0;34m,\u001b[0m\u001b[0my_r\u001b[0m\u001b[0;34m,\u001b[0m \u001b[0mnmin\u001b[0m\u001b[0;34m,\u001b[0m \u001b[0mminleaf\u001b[0m\u001b[0;34m,\u001b[0m \u001b[0mnfeat\u001b[0m\u001b[0;34m)\u001b[0m\u001b[0;34m\u001b[0m\u001b[0;34m\u001b[0m\u001b[0m\n\u001b[1;32m    109\u001b[0m \u001b[0;34m\u001b[0m\u001b[0m\n",
            "\u001b[0;32m<ipython-input-1-17ccdabbe508>\u001b[0m in \u001b[0;36mtree_grow\u001b[0;34m(x, y, nmin, minleaf, nfeat)\u001b[0m\n\u001b[1;32m    105\u001b[0m \u001b[0;34m\u001b[0m\u001b[0m\n\u001b[1;32m    106\u001b[0m   \u001b[0;31m#recursion\u001b[0m\u001b[0;34m\u001b[0m\u001b[0;34m\u001b[0m\u001b[0m\n\u001b[0;32m--> 107\u001b[0;31m   \u001b[0mleft_tree\u001b[0m \u001b[0;34m=\u001b[0m \u001b[0mtree_grow\u001b[0m\u001b[0;34m(\u001b[0m\u001b[0mx_l\u001b[0m\u001b[0;34m,\u001b[0m\u001b[0my_l\u001b[0m\u001b[0;34m,\u001b[0m \u001b[0mnmin\u001b[0m\u001b[0;34m,\u001b[0m \u001b[0mminleaf\u001b[0m\u001b[0;34m,\u001b[0m \u001b[0mnfeat\u001b[0m\u001b[0;34m)\u001b[0m\u001b[0;34m\u001b[0m\u001b[0;34m\u001b[0m\u001b[0m\n\u001b[0m\u001b[1;32m    108\u001b[0m   \u001b[0mright_tree\u001b[0m \u001b[0;34m=\u001b[0m \u001b[0mtree_grow\u001b[0m\u001b[0;34m(\u001b[0m\u001b[0mx_r\u001b[0m\u001b[0;34m,\u001b[0m\u001b[0my_r\u001b[0m\u001b[0;34m,\u001b[0m \u001b[0mnmin\u001b[0m\u001b[0;34m,\u001b[0m \u001b[0mminleaf\u001b[0m\u001b[0;34m,\u001b[0m \u001b[0mnfeat\u001b[0m\u001b[0;34m)\u001b[0m\u001b[0;34m\u001b[0m\u001b[0;34m\u001b[0m\u001b[0m\n\u001b[1;32m    109\u001b[0m \u001b[0;34m\u001b[0m\u001b[0m\n",
            "\u001b[0;32m<ipython-input-1-17ccdabbe508>\u001b[0m in \u001b[0;36mtree_grow\u001b[0;34m(x, y, nmin, minleaf, nfeat)\u001b[0m\n\u001b[1;32m    105\u001b[0m \u001b[0;34m\u001b[0m\u001b[0m\n\u001b[1;32m    106\u001b[0m   \u001b[0;31m#recursion\u001b[0m\u001b[0;34m\u001b[0m\u001b[0;34m\u001b[0m\u001b[0m\n\u001b[0;32m--> 107\u001b[0;31m   \u001b[0mleft_tree\u001b[0m \u001b[0;34m=\u001b[0m \u001b[0mtree_grow\u001b[0m\u001b[0;34m(\u001b[0m\u001b[0mx_l\u001b[0m\u001b[0;34m,\u001b[0m\u001b[0my_l\u001b[0m\u001b[0;34m,\u001b[0m \u001b[0mnmin\u001b[0m\u001b[0;34m,\u001b[0m \u001b[0mminleaf\u001b[0m\u001b[0;34m,\u001b[0m \u001b[0mnfeat\u001b[0m\u001b[0;34m)\u001b[0m\u001b[0;34m\u001b[0m\u001b[0;34m\u001b[0m\u001b[0m\n\u001b[0m\u001b[1;32m    108\u001b[0m   \u001b[0mright_tree\u001b[0m \u001b[0;34m=\u001b[0m \u001b[0mtree_grow\u001b[0m\u001b[0;34m(\u001b[0m\u001b[0mx_r\u001b[0m\u001b[0;34m,\u001b[0m\u001b[0my_r\u001b[0m\u001b[0;34m,\u001b[0m \u001b[0mnmin\u001b[0m\u001b[0;34m,\u001b[0m \u001b[0mminleaf\u001b[0m\u001b[0;34m,\u001b[0m \u001b[0mnfeat\u001b[0m\u001b[0;34m)\u001b[0m\u001b[0;34m\u001b[0m\u001b[0;34m\u001b[0m\u001b[0m\n\u001b[1;32m    109\u001b[0m \u001b[0;34m\u001b[0m\u001b[0m\n",
            "... last 15 frames repeated, from the frame below ...\n",
            "\u001b[0;32m<ipython-input-1-17ccdabbe508>\u001b[0m in \u001b[0;36mtree_grow\u001b[0;34m(x, y, nmin, minleaf, nfeat)\u001b[0m\n\u001b[1;32m    106\u001b[0m   \u001b[0;31m#recursion\u001b[0m\u001b[0;34m\u001b[0m\u001b[0;34m\u001b[0m\u001b[0m\n\u001b[1;32m    107\u001b[0m   \u001b[0mleft_tree\u001b[0m \u001b[0;34m=\u001b[0m \u001b[0mtree_grow\u001b[0m\u001b[0;34m(\u001b[0m\u001b[0mx_l\u001b[0m\u001b[0;34m,\u001b[0m\u001b[0my_l\u001b[0m\u001b[0;34m,\u001b[0m \u001b[0mnmin\u001b[0m\u001b[0;34m,\u001b[0m \u001b[0mminleaf\u001b[0m\u001b[0;34m,\u001b[0m \u001b[0mnfeat\u001b[0m\u001b[0;34m)\u001b[0m\u001b[0;34m\u001b[0m\u001b[0;34m\u001b[0m\u001b[0m\n\u001b[0;32m--> 108\u001b[0;31m   \u001b[0mright_tree\u001b[0m \u001b[0;34m=\u001b[0m \u001b[0mtree_grow\u001b[0m\u001b[0;34m(\u001b[0m\u001b[0mx_r\u001b[0m\u001b[0;34m,\u001b[0m\u001b[0my_r\u001b[0m\u001b[0;34m,\u001b[0m \u001b[0mnmin\u001b[0m\u001b[0;34m,\u001b[0m \u001b[0mminleaf\u001b[0m\u001b[0;34m,\u001b[0m \u001b[0mnfeat\u001b[0m\u001b[0;34m)\u001b[0m\u001b[0;34m\u001b[0m\u001b[0;34m\u001b[0m\u001b[0m\n\u001b[0m\u001b[1;32m    109\u001b[0m \u001b[0;34m\u001b[0m\u001b[0m\n\u001b[1;32m    110\u001b[0m   \u001b[0;32mreturn\u001b[0m \u001b[0mDecisionNode\u001b[0m\u001b[0;34m(\u001b[0m\u001b[0mfeature\u001b[0m\u001b[0;34m=\u001b[0m\u001b[0mfeature_index\u001b[0m\u001b[0;34m,\u001b[0m \u001b[0msplitpoint\u001b[0m\u001b[0;34m=\u001b[0m\u001b[0msplitpoint\u001b[0m\u001b[0;34m,\u001b[0m \u001b[0mleft\u001b[0m\u001b[0;34m=\u001b[0m\u001b[0mleft_tree\u001b[0m\u001b[0;34m,\u001b[0m \u001b[0mright\u001b[0m\u001b[0;34m=\u001b[0m\u001b[0mright_tree\u001b[0m\u001b[0;34m,\u001b[0m \u001b[0mvalue\u001b[0m\u001b[0;34m=\u001b[0m\u001b[0my\u001b[0m\u001b[0;34m)\u001b[0m\u001b[0;34m\u001b[0m\u001b[0;34m\u001b[0m\u001b[0m\n",
            "\u001b[0;31mRecursionError\u001b[0m: maximum recursion depth exceeded in comparison"
          ]
        }
      ]
    },
    {
      "cell_type": "code",
      "execution_count": null,
      "metadata": {
        "id": "aS7V-7TVf9dN"
      },
      "outputs": [],
      "source": [
        "# Tree prediction with just 1 tree, so without bagging\n",
        "def tree_pred(x=x, tr=tree):\n",
        "    pass"
      ]
    },
    {
      "cell_type": "code",
      "execution_count": null,
      "metadata": {
        "colab": {
          "base_uri": "https://localhost:8080/"
        },
        "id": "f58Q63VXJxeL",
        "outputId": "79e9f7d4-25ec-416f-e918-9bb7363f8997"
      },
      "outputs": [
        {
          "name": "stdout",
          "output_type": "stream",
          "text": [
            "<__main__.DecisionNode object at 0x11980b6b0>\n"
          ]
        }
      ],
      "source": [
        "# Testing the tree_grow()\n",
        "#print(tree_grow(x,y,10,10,5).right.value)\n",
        "#print(tree_grow(x,y,10,10,1).right.right.right.right.right.right.right.right.right.right.is_leaf_node)\n",
        "\n",
        "test_tree = tree_grow(x,y,10,10,5)\n",
        "print(test_tree)\n",
        "test_x = x\n",
        "print(tree_pred(test_x, test_tree)) #doesnt work yet\n"
      ]
    },
    {
      "cell_type": "code",
      "execution_count": null,
      "metadata": {
        "id": "tN-1cwFvf9dO"
      },
      "outputs": [],
      "source": [
        "# Bagging tree grow, i.e. tree grow with bootstrap aggregating\n",
        "def tree_grow_b(x, y, nmin, minleaf, nfeat, m=10):\n",
        "\n",
        "    tree_bags = []\n",
        "    return tree_bags # should be a list of trees"
      ]
    },
    {
      "cell_type": "code",
      "execution_count": null,
      "metadata": {
        "id": "Zm0C4Wcuf9dO"
      },
      "outputs": [],
      "source": [
        "# Tree prediction with bagging\n",
        "def tree_pred_b(x, tree_bags):\n",
        "\n",
        "    for tree in tree_bags:\n",
        "        tree_pred(x, tree)\n",
        "\n",
        "    return y # Should return a vector y where y[i] contains the predicted class label for row i of x\n"
      ]
    }
  ],
  "metadata": {
    "colab": {
      "provenance": [],
      "include_colab_link": true
    },
    "kernelspec": {
      "display_name": "Python 3",
      "name": "python3"
    },
    "language_info": {
      "codemirror_mode": {
        "name": "ipython",
        "version": 3
      },
      "file_extension": ".py",
      "mimetype": "text/x-python",
      "name": "python",
      "nbconvert_exporter": "python",
      "pygments_lexer": "ipython3",
      "version": "3.12.2"
    }
  },
  "nbformat": 4,
  "nbformat_minor": 0
}