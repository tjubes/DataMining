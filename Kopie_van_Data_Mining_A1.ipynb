{
  "nbformat": 4,
  "nbformat_minor": 0,
  "metadata": {
    "colab": {
      "provenance": [],
      "authorship_tag": "ABX9TyMMBL0aOkVLYAGe91Ow32XX",
      "include_colab_link": true
    },
    "kernelspec": {
      "name": "python3",
      "display_name": "Python 3"
    },
    "language_info": {
      "name": "python"
    }
  },
  "cells": [
    {
      "cell_type": "markdown",
      "metadata": {
        "id": "view-in-github",
        "colab_type": "text"
      },
      "source": [
        "<a href=\"https://colab.research.google.com/github/tjubes/DataMining/blob/main/Kopie_van_Data_Mining_A1.ipynb\" target=\"_parent\"><img src=\"https://colab.research.google.com/assets/colab-badge.svg\" alt=\"Open In Colab\"/></a>"
      ]
    },
    {
      "cell_type": "code",
      "execution_count": 4,
      "metadata": {
        "id": "ChJjT8mSegwr",
        "colab": {
          "base_uri": "https://localhost:8080/"
        },
        "outputId": "76bbdd6d-9b26-4697-b4e6-49dffa297169"
      },
      "outputs": [
        {
          "output_type": "execute_result",
          "data": {
            "text/plain": [
              "array([24, 27, 28, 30, 32, 40, 52, 58])"
            ]
          },
          "metadata": {},
          "execution_count": 4
        }
      ],
      "source": [
        "import numpy as np\n",
        "import collections\n",
        "array=np.array([1,0,1,1,1,0,0,1,1,0,1])\n",
        "\n",
        "def impurity(a):\n",
        "  i = (np.count_nonzero(a == 0)/len(a))*(1-np.count_nonzero(a == 0)/len(a))\n",
        "  return i\n",
        "\n",
        "#impurity(array)\n",
        "\n",
        "\n",
        "import pandas as pd\n",
        "df = pd.read_csv('credit.txt').to_numpy()\n",
        "\n",
        "x = df[:,3]\n",
        "y = df[:,5]\n",
        "\n",
        "np.sort(np.unique(x))"
      ]
    },
    {
      "cell_type": "code",
      "source": [
        "def bestsplit(x,y):\n",
        "#return best splitpoint, reduction of splitpoint (gini index)\n",
        "\n",
        "  #The best split is the split that achieves the highest impurity reduction.\n",
        "  impurity_parent = impurity(y)\n",
        "\n",
        "  x_sorted = np.sort(np.unique(x))\n",
        "  x_splitpoints = (x_sorted[0:(len(x_sorted)-1)]+x_sorted[1:(len(x_sorted))])/2\n",
        "\n",
        "  reductions = []\n",
        "  for s in x_splitpoints:\n",
        "    left = impurity(y[x <= s])\n",
        "    l = len(y[x <= s])/len(y)\n",
        "    right = impurity(y[x > s])\n",
        "    r = len(y[x > s])/len(y)\n",
        "    reduction = impurity_parent - ((l*left) + r*(right))\n",
        "    reductions.append(reduction)\n",
        "\n",
        "  best_splitpoint = x_splitpoints[reductions.index(max(reductions))], max(reductions)\n",
        "\n",
        "  return best_splitpoint\n"
      ],
      "metadata": {
        "id": "-szj6CTJfB2M"
      },
      "execution_count": 25,
      "outputs": []
    },
    {
      "cell_type": "code",
      "source": [
        "bestsplit(df[:,3],df[:,5])"
      ],
      "metadata": {
        "colab": {
          "base_uri": "https://localhost:8080/"
        },
        "id": "lxxoza74lGdL",
        "outputId": "b525aea2-4794-454a-a7b6-b713acf836fc"
      },
      "execution_count": 26,
      "outputs": [
        {
          "output_type": "execute_result",
          "data": {
            "text/plain": [
              "(3.5, 0.0002691013357307599)"
            ]
          },
          "metadata": {},
          "execution_count": 26
        }
      ]
    },
    {
      "cell_type": "code",
      "source": [
        "def tree_grow(x, y, nmin, minleaf, nfeat):\n",
        "\n",
        "  #find the column that has the best quality of split\n",
        "\n",
        "  best_reduction = 0\n",
        "  best_splitpoint = 0\n",
        "  column_i = 0\n",
        "  i = 0\n",
        "\n",
        "  for column in x.T:\n",
        "    splitpoint, reduction = bestsplit(column,y)\n",
        "    if reduction > best_reduction:\n",
        "      best_reduction = reduction\n",
        "      best_splitpoint = splitpoint\n",
        "      column_i = i\n",
        "    i+=1\n",
        "\n",
        "  print(best_splitpoint, column_i)\n",
        "\n",
        "  #y array of left\n",
        "  y_l = y[x[:,column_i]<=best_splitpoint]\n",
        "  #x array of left\n",
        "  x_l = x[np.where(x[:,column_i]<=best_splitpoint)]\n",
        "\n",
        "  #y array of right\n",
        "  y_r = y[x[:,column_i]>best_splitpoint]\n",
        "  #x array of right\n",
        "  x_r = x[np.where(x[:,column_i]>best_splitpoint)]\n",
        "\n",
        "\n",
        "  #recursion\n",
        "  tree_grow(x_l,y_l, nmin, minleaf, nfeat)\n",
        "  tree_grow(x_r,y_r, nmin, minleaf, nfeat)\n",
        "\n",
        "\n",
        "\n",
        "tree_grow(x,y,1,1,1)"
      ],
      "metadata": {
        "colab": {
          "base_uri": "https://localhost:8080/"
        },
        "id": "f58Q63VXJxeL",
        "outputId": "0beacd5a-77bb-4cc0-cef2-f508d5da30a2"
      },
      "execution_count": 40,
      "outputs": [
        {
          "output_type": "stream",
          "name": "stdout",
          "text": [
            "127.5 1\n",
            "485\n",
            "485\n"
          ]
        }
      ]
    },
    {
      "cell_type": "code",
      "source": [
        "df = pd.read_csv('pima indians.txt', header=None).to_numpy()\n",
        "\n",
        "x = df[:, 0:8]\n",
        "y = df[:, 8]\n",
        "\n",
        "\n",
        "\n",
        "#def tree_grow(x, y, nmin, minleaf, nfeat):\n"
      ],
      "metadata": {
        "id": "_IF7yTvzlq9B"
      },
      "execution_count": 21,
      "outputs": []
    }
  ]
}